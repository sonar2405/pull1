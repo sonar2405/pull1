{
 "cells": [
  {
   "cell_type": "code",
   "execution_count": 1,
   "id": "f729a730",
   "metadata": {},
   "outputs": [
    {
     "name": "stdout",
     "output_type": "stream",
     "text": [
      "enter the number124\n",
      "4\n",
      "42\n",
      "421\n"
     ]
    }
   ],
   "source": [
    "num=int(input(\"enter the number\"))\n",
    "temp=num\n",
    "reverse=0\n",
    "while num>0:\n",
    "    remainder=num%10\n",
    "    reverse=(reverse *10)+remainder\n",
    "    num=num//10\n",
    "    print(reverse)"
   ]
  },
  {
   "cell_type": "code",
   "execution_count": 7,
   "id": "b6a8afd7",
   "metadata": {},
   "outputs": [
    {
     "ename": "IndentationError",
     "evalue": "unindent does not match any outer indentation level (<tokenize>, line 6)",
     "output_type": "error",
     "traceback": [
      "\u001b[1;36m  File \u001b[1;32m<tokenize>:6\u001b[1;36m\u001b[0m\n\u001b[1;33m    if(sum==n):\u001b[0m\n\u001b[1;37m    ^\u001b[0m\n\u001b[1;31mIndentationError\u001b[0m\u001b[1;31m:\u001b[0m unindent does not match any outer indentation level\n"
     ]
    }
   ],
   "source": [
    "n=int(input(\"enter any no\"))\n",
    "sum=0\n",
    "for i in range(1,n):\n",
    "      if(n%i==0):\n",
    "        sum=sum+i\n",
    "    if(sum==n):\n",
    "        print(\"the no is a perfect no\")\n",
    "    else:\n",
    "        print(\"the no is not a perfect no\")"
   ]
  },
  {
   "cell_type": "code",
   "execution_count": 8,
   "id": "627b68c4",
   "metadata": {},
   "outputs": [
    {
     "name": "stdout",
     "output_type": "stream",
     "text": [
      "enter your number56\n",
      "teh no is even\n"
     ]
    }
   ],
   "source": [
    "n=int(input(\"enter your number\"))\n",
    "if(n%2)==0:\n",
    "    print(\"teh no is even\")\n",
    "else:\n",
    "    print(\"the no is odd\")"
   ]
  },
  {
   "cell_type": "code",
   "execution_count": 10,
   "id": "aa193eb7",
   "metadata": {},
   "outputs": [
    {
     "name": "stdout",
     "output_type": "stream",
     "text": [
      "enter the no7\n",
      "7 is prime\n",
      "7 is prime\n",
      "7 is prime\n",
      "7 is prime\n",
      "7 is prime\n"
     ]
    }
   ],
   "source": [
    "num=int(input(\"enter the no\"))\n",
    "if num>1:\n",
    "    for i in range(2,num):\n",
    "        if(num%i)==0:\n",
    "            print(num,\"is not prime\")\n",
    "            break\n",
    "        else:\n",
    "            print(num,\"is prime\")\n",
    "else:\n",
    "    print(num,\"is not a prime\")"
   ]
  },
  {
   "cell_type": "code",
   "execution_count": 15,
   "id": "60998942",
   "metadata": {
    "collapsed": true
   },
   "outputs": [
    {
     "name": "stdout",
     "output_type": "stream",
     "text": [
      "enter no13\n",
      "the factorial of 13 is 6227020800\n"
     ]
    }
   ],
   "source": [
    "def fact(n):\n",
    "    if n==1:\n",
    "        return n\n",
    "    else:\n",
    "        return n*fact(n-1)\n",
    "num=int(input(\"enter no\"))\n",
    "print(\"the factorial of\",num ,\"is\",fact(num))"
   ]
  },
  {
   "cell_type": "code",
   "execution_count": null,
   "id": "92253e49",
   "metadata": {},
   "outputs": [],
   "source": [
    "lower=int(input(\"enter the lower limit\"))\n",
    "upper=int(input(\"enter the upper limi\"))"
   ]
  }
 ],
 "metadata": {
  "kernelspec": {
   "display_name": "Python 3 (ipykernel)",
   "language": "python",
   "name": "python3"
  },
  "language_info": {
   "codemirror_mode": {
    "name": "ipython",
    "version": 3
   },
   "file_extension": ".py",
   "mimetype": "text/x-python",
   "name": "python",
   "nbconvert_exporter": "python",
   "pygments_lexer": "ipython3",
   "version": "3.11.5"
  }
 },
 "nbformat": 4,
 "nbformat_minor": 5
}
